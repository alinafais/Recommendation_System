version https://git-lfs.github.com/spec/v1
oid sha256:3a408eb5464028fa96401ef1a1861ec81dea04f6b21b425ab4ee0c124cbe3a39
size 343320
